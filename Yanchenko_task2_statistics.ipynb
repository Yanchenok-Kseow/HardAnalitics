{
 "cells": [
  {
   "cell_type": "markdown",
   "id": "2fb1a5d2-9fb0-4a9d-9a5d-cfc5ce74eca0",
   "metadata": {},
   "source": [
    "**Задача 1**\n",
    "Из партии батареек с номинальным напряжением 12 В наугад выбрано семь штук. Согласно показаниям высокоточного вольтметра, фактически выдаваемое ими напряжение составило: 12,9; 11,6; 13,5; 13,9; 12,1; 11,9; 13,0 В соответственно. Можно ли считать, что среднее напряжение действительно равно 12 В?"
   ]
  },
  {
   "cell_type": "markdown",
   "id": "94c91844-6d48-4215-9bac-b89a0b63ae9c",
   "metadata": {},
   "source": [
    "Решение: \n",
    "Нулевая гипотеза (H0) Средн напряжение = 12 В.\n",
    "Альтернативная гипотеза(H1): Средн напряжение != 12 В."
   ]
  },
  {
   "cell_type": "code",
   "execution_count": 20,
   "id": "c9eac5ae-4f65-471b-b1ba-255f3ee75eb0",
   "metadata": {},
   "outputs": [
    {
     "data": {
      "text/plain": [
       "np.float64(2.15780179749788)"
      ]
     },
     "execution_count": 20,
     "metadata": {},
     "output_type": "execute_result"
    }
   ],
   "source": [
    "import numpy as np\n",
    "from scipy import stats\n",
    "\n",
    "# Создаем массив из данных наблюдений\n",
    "volt = np.array([12.9, 11.6, 13.5, 13.9, 12.1, 11.9, 13.0])\n",
    "\n",
    "# Вычисляем среднее значение и стандартное отклонение\n",
    "mean = np.mean(volt)\n",
    "std_dev = np.std(volt, ddof=1)\n",
    "n = len(volt)\n",
    "\n",
    "# Высчитываем t-критерий\n",
    "t_crit = (mean - 12) / (std_dev / np.sqrt(n))\n",
    "\n",
    "# p-value\n",
    "p_value = 2 * (1 - stats.t.cdf(abs(t_crit), df=n-1))\n",
    "t_crit"
   ]
  },
  {
   "cell_type": "code",
   "execution_count": 12,
   "id": "2b036198-7d15-4df2-9c14-98496db8847a",
   "metadata": {},
   "outputs": [
    {
     "data": {
      "text/plain": [
       "np.float64(0.07430190210562304)"
      ]
     },
     "execution_count": 12,
     "metadata": {},
     "output_type": "execute_result"
    }
   ],
   "source": [
    "p_value"
   ]
  },
  {
   "cell_type": "markdown",
   "id": "fed531ff-fc6d-418c-be99-f4aadece9507",
   "metadata": {},
   "source": [
    "**Ответ:** Высокий p-value говорит о низкой статистической значимости или ее отсутсвии, поэтому на уровне значимости 0,05 нет оснований для отклонения нулевой гипотезы. Среднее напрямение равно 12 В."
   ]
  },
  {
   "cell_type": "markdown",
   "id": "187cbb08-dd2f-43fd-8139-6138d4490003",
   "metadata": {},
   "source": [
    "**Задача 2**\n",
    "Есть два различных метода определения процентного содержания жира в мясе. Доля жира для 10 образцов мяса была определена каждым из двух методов. Позволяют ли полученные результаты сделать вывод о том, что один метод даёт в среднем более высокие показания, чем другой?"
   ]
  },
  {
   "cell_type": "markdown",
   "id": "6f5619da-49e1-47f6-b1a0-646fdc8cb65a",
   "metadata": {},
   "source": [
    "Нулевая гипотеза (H0): Средние значения процентного содержания жира, полученные двумя методами, равны."
   ]
  },
  {
   "cell_type": "markdown",
   "id": "efc71068-289d-4f7b-881c-632685fa83e4",
   "metadata": {},
   "source": [
    "Альтернативная гипотеза(H1): Одно из средних значений процентного содержания жира больше, а другое - меньше"
   ]
  },
  {
   "cell_type": "code",
   "execution_count": 15,
   "id": "f9176674-c71a-44c1-919f-f0fae54d861a",
   "metadata": {},
   "outputs": [
    {
     "data": {
      "text/plain": [
       "TtestResult(statistic=np.float64(-1.8382308398350186e-15), pvalue=np.float64(0.5000000000000008), df=np.float64(18.0))"
      ]
     },
     "execution_count": 15,
     "metadata": {},
     "output_type": "execute_result"
    }
   ],
   "source": [
    "# вводим массив из данных выборок\n",
    "method1 = np.array([23.1, 23.2, 26.5, 26.6, 27.1, 48.3, 40.5, 25.0, 38.4, 23.5])\n",
    "method2 = np.array([22.7, 23.6, 27.1, 27.4, 27.4, 46.8, 40.4, 24.9, 38.1, 23.8])\n",
    "\n",
    "# используем односторонний тест\n",
    "stats.ttest_ind(method1, method2, alternative='greater')"
   ]
  },
  {
   "cell_type": "markdown",
   "id": "14f54718-8051-449c-9360-394f2cfbe5f1",
   "metadata": {},
   "source": [
    "**Ответ:** Высокий p-value говорит о низкой статистической значимости или ее отсутсвии, поэтому на уровне значимости 0,05 нет оснований для отклонения нулевой гипотезы. Нет статистически значимой разницы между двумя методами определения % содержания жира"
   ]
  },
  {
   "cell_type": "markdown",
   "id": "44b009a1-f18c-4718-8979-692c04821ae3",
   "metadata": {},
   "source": [
    "**Задача 3** Для проверки гипотезы о том, что жители городов имеют в среднем более высокое систолическое артериальное давление, чем жители сельской местности, было проведено обследование 10 горожан и 9 жителей села примерно одного возраста. Получены следующие данные об уровне давления для горожан: 132, 111, 119, 138, 200, 131, 138, 170, 159, 140; для селян: 115, 190, 127, 155, 148, 121, 116, 121, 197. Можно ли считать верной выдвинутую гипотезу на уровне значимости 0,05?"
   ]
  },
  {
   "cell_type": "markdown",
   "id": "93aa9acb-14a6-4877-9f49-7c3e3e318d7a",
   "metadata": {},
   "source": [
    "Нулевая гипотеза (H0): Жители города и жители села имеют одинаковое среднее систолическое артериальное давление"
   ]
  },
  {
   "cell_type": "markdown",
   "id": "42a3b888-20c4-42ce-981b-044ae0fbb62c",
   "metadata": {},
   "source": [
    "Альтернативная гипотеза (H1): Жители города имеют в среднем более высокое систолическое артериальное давление"
   ]
  },
  {
   "cell_type": "code",
   "execution_count": 8,
   "id": "da65159d-ee7f-44f2-b399-be022f5ce8ec",
   "metadata": {},
   "outputs": [
    {
     "data": {
      "text/plain": [
       "TtestResult(statistic=np.float64(0.035165199049777565), pvalue=np.float64(0.486178812200461), df=np.float64(17.0))"
      ]
     },
     "execution_count": 8,
     "metadata": {},
     "output_type": "execute_result"
    }
   ],
   "source": [
    "# создаем массив из наблюдений\n",
    "city = np.array([132, 111, 119, 138, 200, 131, 138, 170, 159, 140])\n",
    "village = np.array([115, 190, 127, 155, 148, 121, 116, 121, 197])\n",
    "\n",
    "# вычисляем среднее значение и ско\n",
    "c_mean = np.mean(city)\n",
    "v_mean = np.mean(village)\n",
    "c_std = np.std(city, ddof =1)\n",
    "v_std = np.std(village, ddof =1)\n",
    "\n",
    "stats.ttest_ind(city, village, alternative='greater')"
   ]
  },
  {
   "cell_type": "markdown",
   "id": "caf27cb1-4d48-4c8a-aa1c-265545a58042",
   "metadata": {},
   "source": [
    "**Ответ:** Высокий p-value говорит о низкой статистической значимости или ее отсутсвии, поэтому на уровне значимости 0,05 нет оснований для отклонения нулевой гипотезы. У жителей города и села среденее систолическое артериальное давление равно."
   ]
  },
  {
   "cell_type": "markdown",
   "id": "14083fd4-c838-4198-ad4f-69c89169d1dd",
   "metadata": {},
   "source": [
    "**Задача 4** Известно, что 52% новорождённых детей — мальчики, а 48% — девочки. В случайной выборке из 5 000 человек в возрасте от 30 до 60 лет мужчин оказалось 2 500. Можно ли на уровне значимости 0,05 считать, основываясь на этих данных, что смертность среди мужчин и женщин одинакова?"
   ]
  },
  {
   "cell_type": "markdown",
   "id": "136e75e6-56ef-4ae7-832f-bec4e822ca5e",
   "metadata": {},
   "source": [
    "Нулевая гипотеза (H0): Смертость среди мужчин и женщин одинаковая"
   ]
  },
  {
   "cell_type": "markdown",
   "id": "e3dc7227-9bcf-45e1-b11d-bc5613149330",
   "metadata": {},
   "source": [
    "Альтернативная гипотеза(H1): Смертность среди мужчин выше, чем у женщин"
   ]
  },
  {
   "cell_type": "code",
   "execution_count": 19,
   "id": "55b23a4c-dba5-49e4-89c1-1ca4593406de",
   "metadata": {},
   "outputs": [
    {
     "ename": "NameError",
     "evalue": "name 'binom' is not defined",
     "output_type": "error",
     "traceback": [
      "\u001b[0;31m---------------------------------------------------------------------------\u001b[0m",
      "\u001b[0;31mNameError\u001b[0m                                 Traceback (most recent call last)",
      "Cell \u001b[0;32mIn[19], line 10\u001b[0m\n\u001b[1;32m      7\u001b[0m p_men_expected \u001b[38;5;241m=\u001b[39m \u001b[38;5;241m0.52\u001b[39m\n\u001b[1;32m      9\u001b[0m \u001b[38;5;66;03m# Расчет двухстороннего p-значения\u001b[39;00m\n\u001b[0;32m---> 10\u001b[0m p_value \u001b[38;5;241m=\u001b[39m (\u001b[43mbinom\u001b[49m\u001b[38;5;241m.\u001b[39mcdf(n_men_observed, n_total, p_men_expected) \u001b[38;5;241m+\u001b[39m \n\u001b[1;32m     11\u001b[0m            (\u001b[38;5;241m1\u001b[39m \u001b[38;5;241m-\u001b[39m binom\u001b[38;5;241m.\u001b[39mcdf(n_total \u001b[38;5;241m-\u001b[39m n_men_observed \u001b[38;5;241m-\u001b[39m \u001b[38;5;241m1\u001b[39m, n_total, p_men_expected)))\n\u001b[1;32m     13\u001b[0m \u001b[38;5;66;03m# Уровень значимости\u001b[39;00m\n\u001b[1;32m     14\u001b[0m alpha \u001b[38;5;241m=\u001b[39m \u001b[38;5;241m0.05\u001b[39m\n",
      "\u001b[0;31mNameError\u001b[0m: name 'binom' is not defined"
     ]
    }
   ],
   "source": [
    "n_total = 5000          # Общее количество наблюдений\n",
    "n_men_observed = 2500   # Наблюдаемое количество успехов (мужчины)\n",
    "n_men_expected = n_total * 0.52 # Ожидаемое число успехов (мужчины)\n",
    "\n",
    "# Рассчитаем p-value\n",
    "# вероятность успеха (ожидаемая пропорция)\n",
    "p_men_expected = 0.52\n",
    "\n",
    "# Расчет двухстороннего p-значения\n",
    "p_value = (binom.cdf(n_men_observed, n_total, p_men_expected) + \n",
    "           (1 - binom.cdf(n_total - n_men_observed - 1, n_total, p_men_expected)))\n",
    "\n",
    "# Уровень значимости\n",
    "alpha = 0.05\n",
    "\n",
    "# Вывод результатов\n",
    "print(f\"p-значение: {p_value:.4f}\")\n",
    "\n",
    "if p_value < alpha:\n",
    "    print(\"Отвергаем нулевую гипотезу: смертность среди мужчин и женщин не одинакова.\")\n",
    "else:\n",
    "    print(\"Не отвергаем нулевую гипотезу: недостаточно доказательств, чтобы утверждать, что смертность среди мужчин и женщин различается.\")"
   ]
  },
  {
   "cell_type": "code",
   "execution_count": null,
   "id": "c27a36df-9184-4e3d-b78e-d7de869041d3",
   "metadata": {},
   "outputs": [],
   "source": []
  }
 ],
 "metadata": {
  "kernelspec": {
   "display_name": "Python 3 (ipykernel)",
   "language": "python",
   "name": "python3"
  },
  "language_info": {
   "codemirror_mode": {
    "name": "ipython",
    "version": 3
   },
   "file_extension": ".py",
   "mimetype": "text/x-python",
   "name": "python",
   "nbconvert_exporter": "python",
   "pygments_lexer": "ipython3",
   "version": "3.10.12"
  }
 },
 "nbformat": 4,
 "nbformat_minor": 5
}
